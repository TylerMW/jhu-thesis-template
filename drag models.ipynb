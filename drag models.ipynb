{
 "cells": [
  {
   "cell_type": "markdown",
   "metadata": {},
   "source": [
    "The mobility of an inclusion in a membrane was first determined by [Saffman and Delbruck](http://dx.doi.org/10.1073/pnas.72.8.3111).\n",
    "\n",
    "$\\displaystyle\\frac{1}{\\zeta} = \\frac{1}{4\\pi\\eta_s}\\left(\\log\\frac{\\eta_s}{\\mu a} - \\gamma\\right)$"
   ]
  },
  {
   "cell_type": "code",
   "execution_count": 32,
   "metadata": {
    "collapsed": false
   },
   "outputs": [],
   "source": [
    "EULER = 0.577\n",
    "\n",
    "def saffman(eta, a=0.5e-6, mu=2e-3):\n",
    "    return 1/(4*pi*eta)*(log(eta/(mu*a)) - EULER)"
   ]
  },
  {
   "cell_type": "markdown",
   "metadata": {},
   "source": [
    "Saffman is invalid at low Bo. When $\\log(\\text{Bo}) < \\gamma$, ($\\text{Bo} \\sim 1.7$) it gives $D < 0$. A more general form was worked out by Hughes and reduced to a nice closed form by [Petrov and Schwille](10.1529/biophysj.107.126565)."
   ]
  },
  {
   "cell_type": "markdown",
   "metadata": {},
   "source": [
    "Define \"reduced radius\" (i.e., inverse Bossinesq number) $\\epsilon = \\displaystyle a\\frac{\\mu_1 + \\mu_2}{\\eta_s}$ where $\\mu_1$ and $\\mu_2$ are bulk viscosities of the subphase and superphase.\n",
    "\n",
    "\n",
    "\\begin{align}\n",
    "\\displaystyle\\frac{1}{\\zeta} &= \\frac{1}{4\\pi\\eta_s}\\\\\n",
    "    &\\times\\ \\log(2/\\epsilon) - \\gamma + 4\\epsilon/\\pi - (\\epsilon^2/2)\\log(2/\\epsilon)\\\\\n",
    "&\\times\\ \\left[1 - (\\epsilon^2/\\pi)\\log(2/\\epsilon) + c_1\\epsilon^{b_1}/(1 + c_2\\epsilon^{b_2})\\right]^{-1}\n",
    "\\end{align}"
   ]
  },
  {
   "cell_type": "code",
   "execution_count": 27,
   "metadata": {
    "collapsed": false
   },
   "outputs": [],
   "source": [
    "C1 = 0.73761\n",
    "B1 = 2.74819\n",
    "C2 = 0.52119\n",
    "B2 = 0.61465\n",
    "\n",
    "def petrov(eta, a=0.5e-6, mu1=3e-3, mu2=1e-3):\n",
    "    ep = a*(mu1 + mu2)/eta\n",
    "    prefactor = 1/(4*pi*eta)\n",
    "    factor1 = log(2/ep) - EULER + 4*ep/pi - ep**2/2*log(2/ep)\n",
    "    factor2 = (1 - ep**2/pi*log(2/ep) + C1*ep**B1/(1 + C2*ep**B2))**-1\n",
    "    return prefactor*factor1*factor2"
   ]
  },
  {
   "cell_type": "markdown",
   "metadata": {},
   "source": [
    "[Fischer](http://dx.doi.org/10.1017/S002211200600022X)"
   ]
  },
  {
   "cell_type": "markdown",
   "metadata": {},
   "source": [
    "Plotting $D = \\displaystyle\\frac{kT}{\\zeta}$ vs. $\\eta_s$ for\n",
    "\n",
    "* $a=0.5\\ \\mu\\text{m}$.\n",
    "* $\\mu_1 = 1\\times10^{-3}\\ \\text{Pa}\\cdot\\text{s}$ (water).\n",
    "* $\\mu_2 = 3\\times10^{-3}\\ \\text{Pa}\\cdot\\text{s}$ (hexadecane)."
   ]
  },
  {
   "cell_type": "code",
   "execution_count": 30,
   "metadata": {
    "collapsed": false
   },
   "outputs": [],
   "source": [
    "kT = 4.1e-21\n",
    "eta = logspace(-10, -6)"
   ]
  },
  {
   "cell_type": "code",
   "execution_count": 33,
   "metadata": {
    "collapsed": false
   },
   "outputs": [
    {
     "data": {
      "text/plain": [
       "<matplotlib.legend.Legend at 0xd07d5cc>"
      ]
     },
     "execution_count": 33,
     "metadata": {},
     "output_type": "execute_result"
    },
    {
     "data": {
      "image/png": "[encoded data removed]",
      "text/plain": [
       "<matplotlib.figure.Figure at 0xd1232cc>"
      ]
     },
     "metadata": {},
     "output_type": "display_data"
    }
   ],
   "source": [
    "fig, ax = subplots()\n",
    "ax.plot(eta, kT*saffman(eta), label='Saffman')\n",
    "ax.plot(eta, kT*petrov(eta), label='Petrov')\n",
    "ax.set_xscale('log')\n",
    "ax.set_yscale('log')\n",
    "ax.legend(loc='best')"
   ]
  },
  {
   "cell_type": "code",
   "execution_count": 25,
   "metadata": {
    "collapsed": false
   },
   "outputs": [
    {
     "data": {
      "text/plain": [
       "(1.7806883445996129, 1.7806883445996127e-09)"
      ]
     },
     "execution_count": 25,
     "metadata": {},
     "output_type": "execute_result"
    }
   ],
   "source": [
    "mu=2e-3; a = 0.5e-6\n",
    "exp(EULER), exp(EULER)*mu*a"
   ]
  },
  {
   "cell_type": "code",
   "execution_count": null,
   "metadata": {
    "collapsed": true
   },
   "outputs": [],
   "source": []
  },
  {
   "cell_type": "markdown",
   "metadata": {},
   "source": [
    "This occurs at $\\text{Bo} \\sim 1.7$ which in our case corresponds to $\\eta_s \\sim 10^9$."
   ]
  }
 ],
 "metadata": {
  "language_info": {
   "codemirror_mode": {
    "name": "ipython",
    "version": 2
   },
   "mimetype": "text/x-python",
   "name": "python",
   "pygments_lexer": "ipython2"
  }
 },
 "nbformat": 4,
 "nbformat_minor": 0
}